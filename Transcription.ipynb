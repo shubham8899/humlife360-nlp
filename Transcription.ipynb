{
  "nbformat": 4,
  "nbformat_minor": 0,
  "metadata": {
    "kernelspec": {
      "display_name": "Python 3",
      "language": "python",
      "name": "python3"
    },
    "language_info": {
      "codemirror_mode": {
        "name": "ipython",
        "version": 3
      },
      "file_extension": ".py",
      "mimetype": "text/x-python",
      "name": "python",
      "nbconvert_exporter": "python",
      "pygments_lexer": "ipython3",
      "version": "3.5.2"
    },
    "colab": {
      "name": "ZoomTranscibe.ipynb",
      "provenance": [],
      "collapsed_sections": [],
      "toc_visible": true
    }
  },
  "cells": [
    {
      "cell_type": "code",
      "metadata": {
        "id": "mbUAVNRlHQ2k",
        "outputId": "fd81e915-8cd3-4fb0-d929-94ca42a345de",
        "colab": {
          "base_uri": "https://localhost:8080/",
          "height": 121
        }
      },
      "source": [
        "from google.colab import drive\n",
        "drive.mount('/content/drive')"
      ],
      "execution_count": null,
      "outputs": [
        {
          "output_type": "stream",
          "text": [
            "Go to this URL in a browser: https://accounts.google.com/o/oauth2/auth?client_id=947318989803-6bn6qk8qdgf4n4g3pfee6491hc0brc4i.apps.googleusercontent.com&redirect_uri=urn%3aietf%3awg%3aoauth%3a2.0%3aoob&response_type=code&scope=email%20https%3a%2f%2fwww.googleapis.com%2fauth%2fdocs.test%20https%3a%2f%2fwww.googleapis.com%2fauth%2fdrive%20https%3a%2f%2fwww.googleapis.com%2fauth%2fdrive.photos.readonly%20https%3a%2f%2fwww.googleapis.com%2fauth%2fpeopleapi.readonly\n",
            "\n",
            "Enter your authorization code:\n",
            "··········\n",
            "Mounted at /content/drive\n"
          ],
          "name": "stdout"
        }
      ]
    },
    {
      "cell_type": "code",
      "metadata": {
        "id": "XBjp8_OCHr2x",
        "outputId": "b6a2ab94-faf7-4f6a-b5e1-2f9d3cbc5d11",
        "colab": {
          "base_uri": "https://localhost:8080/",
          "height": 558
        }
      },
      "source": [
        "!pip install pydub\n",
        "!pip install --upgrade google-cloud-speech"
      ],
      "execution_count": null,
      "outputs": [
        {
          "output_type": "stream",
          "text": [
            "Collecting pydub\n",
            "  Downloading https://files.pythonhosted.org/packages/7b/d1/fbfa79371a8cd9bb15c2e3c480d7e6e340ed5cc55005174e16f48418333a/pydub-0.24.1-py2.py3-none-any.whl\n",
            "Installing collected packages: pydub\n",
            "Successfully installed pydub-0.24.1\n",
            "Collecting google-cloud-speech\n",
            "\u001b[?25l  Downloading https://files.pythonhosted.org/packages/5c/4b/76ec278f9ac5b6a525d222d7539cc473cca41f639a571177301a5115d0b3/google_cloud_speech-1.3.2-py2.py3-none-any.whl (88kB)\n",
            "\u001b[K     |████████████████████████████████| 92kB 2.2MB/s \n",
            "\u001b[?25hRequirement already satisfied, skipping upgrade: google-api-core[grpc]<2.0.0dev,>=1.14.0 in /usr/local/lib/python3.6/dist-packages (from google-cloud-speech) (1.16.0)\n",
            "Requirement already satisfied, skipping upgrade: six>=1.10.0 in /usr/local/lib/python3.6/dist-packages (from google-api-core[grpc]<2.0.0dev,>=1.14.0->google-cloud-speech) (1.12.0)\n",
            "Requirement already satisfied, skipping upgrade: google-auth<2.0dev,>=0.4.0 in /usr/local/lib/python3.6/dist-packages (from google-api-core[grpc]<2.0.0dev,>=1.14.0->google-cloud-speech) (1.17.2)\n",
            "Requirement already satisfied, skipping upgrade: protobuf>=3.4.0 in /usr/local/lib/python3.6/dist-packages (from google-api-core[grpc]<2.0.0dev,>=1.14.0->google-cloud-speech) (3.10.0)\n",
            "Requirement already satisfied, skipping upgrade: requests<3.0.0dev,>=2.18.0 in /usr/local/lib/python3.6/dist-packages (from google-api-core[grpc]<2.0.0dev,>=1.14.0->google-cloud-speech) (2.23.0)\n",
            "Requirement already satisfied, skipping upgrade: googleapis-common-protos<2.0dev,>=1.6.0 in /usr/local/lib/python3.6/dist-packages (from google-api-core[grpc]<2.0.0dev,>=1.14.0->google-cloud-speech) (1.52.0)\n",
            "Requirement already satisfied, skipping upgrade: pytz in /usr/local/lib/python3.6/dist-packages (from google-api-core[grpc]<2.0.0dev,>=1.14.0->google-cloud-speech) (2018.9)\n",
            "Requirement already satisfied, skipping upgrade: setuptools>=34.0.0 in /usr/local/lib/python3.6/dist-packages (from google-api-core[grpc]<2.0.0dev,>=1.14.0->google-cloud-speech) (47.3.1)\n",
            "Requirement already satisfied, skipping upgrade: grpcio<2.0dev,>=1.8.2; extra == \"grpc\" in /usr/local/lib/python3.6/dist-packages (from google-api-core[grpc]<2.0.0dev,>=1.14.0->google-cloud-speech) (1.30.0)\n",
            "Requirement already satisfied, skipping upgrade: pyasn1-modules>=0.2.1 in /usr/local/lib/python3.6/dist-packages (from google-auth<2.0dev,>=0.4.0->google-api-core[grpc]<2.0.0dev,>=1.14.0->google-cloud-speech) (0.2.8)\n",
            "Requirement already satisfied, skipping upgrade: cachetools<5.0,>=2.0.0 in /usr/local/lib/python3.6/dist-packages (from google-auth<2.0dev,>=0.4.0->google-api-core[grpc]<2.0.0dev,>=1.14.0->google-cloud-speech) (4.1.0)\n",
            "Requirement already satisfied, skipping upgrade: rsa<5,>=3.1.4; python_version >= \"3\" in /usr/local/lib/python3.6/dist-packages (from google-auth<2.0dev,>=0.4.0->google-api-core[grpc]<2.0.0dev,>=1.14.0->google-cloud-speech) (4.6)\n",
            "Requirement already satisfied, skipping upgrade: certifi>=2017.4.17 in /usr/local/lib/python3.6/dist-packages (from requests<3.0.0dev,>=2.18.0->google-api-core[grpc]<2.0.0dev,>=1.14.0->google-cloud-speech) (2020.6.20)\n",
            "Requirement already satisfied, skipping upgrade: urllib3!=1.25.0,!=1.25.1,<1.26,>=1.21.1 in /usr/local/lib/python3.6/dist-packages (from requests<3.0.0dev,>=2.18.0->google-api-core[grpc]<2.0.0dev,>=1.14.0->google-cloud-speech) (1.24.3)\n",
            "Requirement already satisfied, skipping upgrade: idna<3,>=2.5 in /usr/local/lib/python3.6/dist-packages (from requests<3.0.0dev,>=2.18.0->google-api-core[grpc]<2.0.0dev,>=1.14.0->google-cloud-speech) (2.9)\n",
            "Requirement already satisfied, skipping upgrade: chardet<4,>=3.0.2 in /usr/local/lib/python3.6/dist-packages (from requests<3.0.0dev,>=2.18.0->google-api-core[grpc]<2.0.0dev,>=1.14.0->google-cloud-speech) (3.0.4)\n",
            "Requirement already satisfied, skipping upgrade: pyasn1<0.5.0,>=0.4.6 in /usr/local/lib/python3.6/dist-packages (from pyasn1-modules>=0.2.1->google-auth<2.0dev,>=0.4.0->google-api-core[grpc]<2.0.0dev,>=1.14.0->google-cloud-speech) (0.4.8)\n",
            "Installing collected packages: google-cloud-speech\n",
            "Successfully installed google-cloud-speech-1.3.2\n"
          ],
          "name": "stdout"
        },
        {
          "output_type": "display_data",
          "data": {
            "application/vnd.colab-display-data+json": {
              "pip_warning": {
                "packages": [
                  "google"
                ]
              }
            }
          },
          "metadata": {
            "tags": []
          }
        }
      ]
    },
    {
      "cell_type": "code",
      "metadata": {
        "id": "jCwTMhJwIWnE"
      },
      "source": [
        "import os\n",
        "os.environ[\"GOOGLE_APPLICATION_CREDENTIALS\"]=r\"/content/drive/My Drive/hl360-speech-text-f175cad06417.json\""
      ],
      "execution_count": null,
      "outputs": []
    },
    {
      "cell_type": "code",
      "metadata": {
        "id": "FgqKRgMTHBGn"
      },
      "source": [
        "filepath = \"/content/drive/My Drive/Topic Modelling/WAVs/\"\n",
        "output_filepath = \"/content/drive/My Drive/Topic Modelling/Transcripts/\""
      ],
      "execution_count": null,
      "outputs": []
    },
    {
      "cell_type": "code",
      "metadata": {
        "id": "QmIxkr--HBGs"
      },
      "source": [
        "from pydub import AudioSegment\n",
        "import io\n",
        "import os\n",
        "from google.cloud import speech\n",
        "from google.cloud.speech import enums\n",
        "from google.cloud.speech import types\n",
        "import wave\n",
        "from google.cloud import storage"
      ],
      "execution_count": null,
      "outputs": []
    },
    {
      "cell_type": "code",
      "metadata": {
        "id": "MqEc42jlHBGv"
      },
      "source": [
        "def mp3_to_wav(audio_file_name):\n",
        "    if audio_file_name.split('.')[1] == 'mp3':    \n",
        "        sound = AudioSegment.from_mp3(audio_file_name)\n",
        "        audio_file_name = audio_file_name.split('.')[0] + '.wav'\n",
        "        sound.export(audio_file_name, format=\"wav\")"
      ],
      "execution_count": null,
      "outputs": []
    },
    {
      "cell_type": "code",
      "metadata": {
        "id": "rOB_fu7XHBGy"
      },
      "source": [
        "def frame_rate_channel(audio_file_name):\n",
        "    with wave.open(audio_file_name, \"rb\") as wave_file:\n",
        "        frame_rate = wave_file.getframerate()\n",
        "        channels = wave_file.getnchannels()\n",
        "        return frame_rate,channels"
      ],
      "execution_count": null,
      "outputs": []
    },
    {
      "cell_type": "code",
      "metadata": {
        "id": "uIakgDYbHBG0"
      },
      "source": [
        "def stereo_to_mono(audio_file_name):\n",
        "    sound = AudioSegment.from_wav(audio_file_name)\n",
        "    sound = sound.set_channels(1)\n",
        "    sound.export(audio_file_name, format=\"wav\")"
      ],
      "execution_count": null,
      "outputs": []
    },
    {
      "cell_type": "code",
      "metadata": {
        "id": "4xP49e1qHBG4"
      },
      "source": [
        "def upload_blob(bucket_name, source_file_name, destination_blob_name):\n",
        "    \"\"\"Uploads a file to the bucket.\"\"\"\n",
        "    storage_client = storage.Client()\n",
        "    bucket = storage_client.get_bucket(bucket_name)\n",
        "    blob = bucket.blob(destination_blob_name)\n",
        "\n",
        "    blob.upload_from_filename(source_file_name)"
      ],
      "execution_count": null,
      "outputs": []
    },
    {
      "cell_type": "code",
      "metadata": {
        "id": "S05TbFMpHBG7"
      },
      "source": [
        "def delete_blob(bucket_name, blob_name):\n",
        "    \"\"\"Deletes a blob from the bucket.\"\"\"\n",
        "    storage_client = storage.Client()\n",
        "    bucket = storage_client.get_bucket(bucket_name)\n",
        "    blob = bucket.blob(blob_name)\n",
        "\n",
        "    blob.delete()"
      ],
      "execution_count": null,
      "outputs": []
    },
    {
      "cell_type": "code",
      "metadata": {
        "id": "liLjxMrZHBG-"
      },
      "source": [
        "def google_transcribe(audio_file_name):\n",
        "    \n",
        "    file_name = filepath + audio_file_name\n",
        "    mp3_to_wav(file_name)\n",
        "\n",
        "    # The name of the audio file to transcribe\n",
        "    \n",
        "    frame_rate, channels = frame_rate_channel(file_name)\n",
        "    \n",
        "    if channels > 1:\n",
        "        stereo_to_mono(file_name)\n",
        "    \n",
        "    bucket_name = 'hl360-nlp-speech'\n",
        "    source_file_name = filepath + audio_file_name\n",
        "    destination_blob_name = audio_file_name\n",
        "    \n",
        "    upload_blob(bucket_name, source_file_name, destination_blob_name)\n",
        "    \n",
        "    gcs_uri = 'gs://hl360-nlp-speech/' + audio_file_name\n",
        "    transcript = ''\n",
        "    \n",
        "    client = speech.SpeechClient()\n",
        "    audio = types.RecognitionAudio(uri=gcs_uri)\n",
        "\n",
        "    config = types.RecognitionConfig(\n",
        "    encoding=enums.RecognitionConfig.AudioEncoding.LINEAR16,\n",
        "    sample_rate_hertz=frame_rate,\n",
        "    language_code='en-IN',\n",
        "    enable_automatic_punctuation=True,\n",
        "    # interactionType = 'PHONE_CALL',\n",
        "    # microphoneDistance = 'MIDFIELD',\n",
        "    # originalMediaType= 'VIDEO',\n",
        "    # recordingDeviceType = 'PC'\n",
        "    )\n",
        "\n",
        "    # Detects speech in the audio file\n",
        "    operation = client.long_running_recognize(config, audio)\n",
        "    response = operation.result(timeout=10000)\n",
        "\n",
        "    for result in response.results:\n",
        "        transcript += result.alternatives[0].transcript\n",
        "    \n",
        "    delete_blob(bucket_name, destination_blob_name)\n",
        "    return transcript"
      ],
      "execution_count": null,
      "outputs": []
    },
    {
      "cell_type": "code",
      "metadata": {
        "id": "F_o4VdJpHBHB"
      },
      "source": [
        "def write_transcripts(transcript_filename,transcript):\n",
        "    f= open(output_filepath + transcript_filename,\"w+\")\n",
        "    f.write(transcript)\n",
        "    f.close() "
      ],
      "execution_count": null,
      "outputs": []
    },
    {
      "cell_type": "code",
      "metadata": {
        "id": "6_ucsdVbHBHD"
      },
      "source": [
        "if __name__ == \"__main__\":\n",
        "    for audio_file_name in os.listdir(filepath):\n",
        "        transcript = google_transcribe(audio_file_name)\n",
        "        transcript_filename = audio_file_name.split('.')[0] + '.txt'\n",
        "        write_transcripts(transcript_filename,transcript)"
      ],
      "execution_count": null,
      "outputs": []
    },
    {
      "cell_type": "markdown",
      "metadata": {
        "id": "UTQbyYuaeKj4"
      },
      "source": [
        "# m4a to wav"
      ]
    },
    {
      "cell_type": "code",
      "metadata": {
        "id": "BwNnZyRVeRMh",
        "outputId": "de070b19-2866-49e9-d10c-742c396ca0e6",
        "colab": {
          "base_uri": "https://localhost:8080/",
          "height": 34
        }
      },
      "source": [
        "from pydub import AudioSegment\n",
        "audio_file_name = \"/content/drive/My Drive/Topic Modelling/AUD-20200625-WA0044.\"\n",
        "sound = AudioSegment.from_file(audio_file_name)\n",
        "audio_file_name = audio_file_name.split('.')[0] + '.wav'\n",
        "sound.export(\"/content/drive/My Drive/Topic Modelling/WAVs/6.wav\", format=\"wav\")"
      ],
      "execution_count": null,
      "outputs": [
        {
          "output_type": "execute_result",
          "data": {
            "text/plain": [
              "<_io.BufferedRandom name='/content/drive/My Drive/Topic Modelling/WAVs/6.wav'>"
            ]
          },
          "metadata": {
            "tags": []
          },
          "execution_count": 9
        }
      ]
    }
  ]
}