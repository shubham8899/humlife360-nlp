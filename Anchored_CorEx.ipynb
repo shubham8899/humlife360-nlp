{
  "nbformat": 4,
  "nbformat_minor": 0,
  "metadata": {
    "colab": {
      "name": "Anchored CorEx",
      "provenance": [],
      "collapsed_sections": []
    },
    "kernelspec": {
      "name": "python3",
      "display_name": "Python 3"
    }
  },
  "cells": [
    {
      "cell_type": "code",
      "metadata": {
        "id": "5hfuv5YeTqdd",
        "outputId": "e1850c86-49ca-486b-e888-c00c97cafd7f",
        "colab": {
          "base_uri": "https://localhost:8080/",
          "height": 84
        }
      },
      "source": [
        "pip install corextopic"
      ],
      "execution_count": null,
      "outputs": [
        {
          "output_type": "stream",
          "text": [
            "Collecting corextopic\n",
            "  Downloading https://files.pythonhosted.org/packages/64/1d/b2a320090c91e67dd93a7e6715794a126b1a56c643824444c952b303dc0a/corextopic-1.0.6-py3-none-any.whl\n",
            "Installing collected packages: corextopic\n",
            "Successfully installed corextopic-1.0.6\n"
          ],
          "name": "stdout"
        }
      ]
    },
    {
      "cell_type": "code",
      "metadata": {
        "id": "SAYIEg9RTfbX"
      },
      "source": [
        "import numpy as np\n",
        "import scipy.sparse as ss\n",
        "import matplotlib.pyplot as plt\n",
        "\n",
        "from corextopic import corextopic as ct\n",
        "from corextopic import vis_topic as vt # jupyter notebooks will complain matplotlib is being loaded twice\n",
        "\n",
        "from sklearn.datasets import fetch_20newsgroups\n",
        "from sklearn.feature_extraction.text import CountVectorizer\n",
        "\n",
        "%matplotlib inline"
      ],
      "execution_count": null,
      "outputs": []
    },
    {
      "cell_type": "code",
      "metadata": {
        "id": "ZvxbWrbDTyW5",
        "outputId": "79f0a72f-7320-4040-954f-f73de1e86af5",
        "colab": {
          "base_uri": "https://localhost:8080/",
          "height": 50
        }
      },
      "source": [
        "newsgroups = fetch_20newsgroups(subset='train', remove=('headers', 'footers', 'quotes'))"
      ],
      "execution_count": null,
      "outputs": [
        {
          "output_type": "stream",
          "text": [
            "Downloading 20news dataset. This may take a few minutes.\n",
            "Downloading dataset from https://ndownloader.figshare.com/files/5975967 (14 MB)\n"
          ],
          "name": "stderr"
        }
      ]
    },
    {
      "cell_type": "code",
      "metadata": {
        "id": "0X94r7raWS4-",
        "outputId": "a71b45cb-caec-40b1-8990-b78695a97922",
        "colab": {
          "base_uri": "https://localhost:8080/",
          "height": 34
        }
      },
      "source": [
        "vectorizer = CountVectorizer(stop_words='english', max_features=20000, binary=True)\n",
        "doc_word = vectorizer.fit_transform(newsgroups.data)\n",
        "doc_word = ss.csr_matrix(doc_word)\n",
        "doc_word.shape # n_docs x m_words"
      ],
      "execution_count": null,
      "outputs": [
        {
          "output_type": "execute_result",
          "data": {
            "text/plain": [
              "(11314, 20000)"
            ]
          },
          "metadata": {
            "tags": []
          },
          "execution_count": 7
        }
      ]
    },
    {
      "cell_type": "code",
      "metadata": {
        "id": "jduf9bRgWfV7",
        "outputId": "bf9fa2dd-cb00-4dac-9eaf-e9b41f25af28",
        "colab": {
          "base_uri": "https://localhost:8080/",
          "height": 50
        }
      },
      "source": [
        "doc_word"
      ],
      "execution_count": null,
      "outputs": [
        {
          "output_type": "execute_result",
          "data": {
            "text/plain": [
              "<11314x20000 sparse matrix of type '<class 'numpy.int64'>'\n",
              "\twith 647408 stored elements in Compressed Sparse Row format>"
            ]
          },
          "metadata": {
            "tags": []
          },
          "execution_count": 8
        }
      ]
    },
    {
      "cell_type": "code",
      "metadata": {
        "id": "F9Z_wbKOXv5c"
      },
      "source": [
        "with open('/content/drive/My Drive/Topic Modelling/Topic Modeling Trial Conservations/Transcripts/16-41.txt') as f:\n",
        "    doc = f.read().split(\".\")"
      ],
      "execution_count": null,
      "outputs": []
    },
    {
      "cell_type": "code",
      "metadata": {
        "id": "XKRIJrufX-kr",
        "outputId": "846df5ab-76b0-434c-dcf9-fa0ab1d5f9c4",
        "colab": {
          "base_uri": "https://localhost:8080/",
          "height": 34
        }
      },
      "source": [
        "vectorizer = CountVectorizer(stop_words='english', max_features=20000, binary=True)\n",
        "doc_word = vectorizer.fit_transform(doc)\n",
        "doc_word = ss.csr_matrix(doc_word)\n",
        "doc_word.shape # n_docs x m_words"
      ],
      "execution_count": null,
      "outputs": [
        {
          "output_type": "execute_result",
          "data": {
            "text/plain": [
              "(47, 337)"
            ]
          },
          "metadata": {
            "tags": []
          },
          "execution_count": 14
        }
      ]
    },
    {
      "cell_type": "code",
      "metadata": {
        "id": "Xw70U_0vZJWW",
        "outputId": "9999b650-cbe9-42b5-d8af-737095018db9",
        "colab": {
          "base_uri": "https://localhost:8080/",
          "height": 1000
        }
      },
      "source": [
        "words = list(np.asarray(vectorizer.get_feature_names()))\n",
        "words"
      ],
      "execution_count": null,
      "outputs": [
        {
          "output_type": "execute_result",
          "data": {
            "text/plain": [
              "['10',\n",
              " '19',\n",
              " '2007',\n",
              " '30',\n",
              " '360',\n",
              " '40',\n",
              " '90',\n",
              " 'absolutely',\n",
              " 'accept',\n",
              " 'access',\n",
              " 'acknowledge',\n",
              " 'activate',\n",
              " 'activity',\n",
              " 'actually',\n",
              " 'administrator',\n",
              " 'adrenal',\n",
              " 'agreement',\n",
              " 'algorithm',\n",
              " 'allowed',\n",
              " 'amit',\n",
              " 'analyses',\n",
              " 'analysis',\n",
              " 'analytical',\n",
              " 'analytics',\n",
              " 'ancient',\n",
              " 'answer',\n",
              " 'anymore',\n",
              " 'app',\n",
              " 'apps',\n",
              " 'area',\n",
              " 'artificial',\n",
              " 'asin',\n",
              " 'ask',\n",
              " 'associated',\n",
              " 'ati',\n",
              " 'authentication',\n",
              " 'avi',\n",
              " 'bad',\n",
              " 'base',\n",
              " 'behaving',\n",
              " 'behaviour',\n",
              " 'best',\n",
              " 'bf',\n",
              " 'block',\n",
              " 'blood',\n",
              " 'bond',\n",
              " 'branding',\n",
              " 'break',\n",
              " 'bunch',\n",
              " 'button',\n",
              " 'cases',\n",
              " 'cell',\n",
              " 'certain',\n",
              " 'change',\n",
              " 'chat',\n",
              " 'coffee',\n",
              " 'coffees',\n",
              " 'come',\n",
              " 'coming',\n",
              " 'companies',\n",
              " 'complete',\n",
              " 'complex',\n",
              " 'concern',\n",
              " 'confidentiality',\n",
              " 'confused',\n",
              " 'connect',\n",
              " 'connection',\n",
              " 'consumed',\n",
              " 'customer',\n",
              " 'cycle',\n",
              " 'daman',\n",
              " 'data',\n",
              " 'dates',\n",
              " 'daughter',\n",
              " 'days',\n",
              " 'democratic',\n",
              " 'demographic',\n",
              " 'diabetes',\n",
              " 'didn',\n",
              " 'difference',\n",
              " 'different',\n",
              " 'din',\n",
              " 'discussion',\n",
              " 'doctors',\n",
              " 'does',\n",
              " 'doesn',\n",
              " 'doing',\n",
              " 'don',\n",
              " 'double',\n",
              " 'dream',\n",
              " 'drink',\n",
              " 'efforts',\n",
              " 'encryption',\n",
              " 'environment',\n",
              " 'example',\n",
              " 'excited',\n",
              " 'explain',\n",
              " 'external',\n",
              " 'face',\n",
              " 'factor',\n",
              " 'family',\n",
              " 'fantastic',\n",
              " 'far',\n",
              " 'features',\n",
              " 'fee',\n",
              " 'feedback',\n",
              " 'feel',\n",
              " 'femalepeople',\n",
              " 'fine',\n",
              " 'force',\n",
              " 'free',\n",
              " 'friend',\n",
              " 'friends',\n",
              " 'function',\n",
              " 'functioning',\n",
              " 'gate',\n",
              " 'generally',\n",
              " 'getting',\n",
              " 'goes',\n",
              " 'going',\n",
              " 'good',\n",
              " 'got',\n",
              " 'group',\n",
              " 'habits',\n",
              " 'hackers',\n",
              " 'hamleys',\n",
              " 'hand',\n",
              " 'handmade',\n",
              " 'happen',\n",
              " 'happy',\n",
              " 'harmful',\n",
              " 'harmony',\n",
              " 'harsh',\n",
              " 'haven',\n",
              " 'help',\n",
              " 'helpful',\n",
              " 'home',\n",
              " 'hope',\n",
              " 'human',\n",
              " 'humri',\n",
              " 'icing',\n",
              " 'idea',\n",
              " 'immediately',\n",
              " 'impact',\n",
              " 'inbox',\n",
              " 'influences',\n",
              " 'information',\n",
              " 'inventing',\n",
              " 'inventor',\n",
              " 'iphone',\n",
              " 'issues',\n",
              " 'james',\n",
              " 'just',\n",
              " 'kab',\n",
              " 'keeping',\n",
              " 'kilometre',\n",
              " 'kinds',\n",
              " 'know',\n",
              " 'language',\n",
              " 'large',\n",
              " 'legal',\n",
              " 'legally',\n",
              " 'let',\n",
              " 'lets',\n",
              " 'licensee',\n",
              " 'lifestyle',\n",
              " 'light',\n",
              " 'like',\n",
              " 'little',\n",
              " 'living',\n",
              " 'look',\n",
              " 'looking',\n",
              " 'lot',\n",
              " 'love',\n",
              " 'main',\n",
              " 'make',\n",
              " 'malicious',\n",
              " 'manner',\n",
              " 'marketing',\n",
              " 'mathura',\n",
              " 'matter',\n",
              " 'mean',\n",
              " 'meaning',\n",
              " 'means',\n",
              " 'measures',\n",
              " 'members',\n",
              " 'mention',\n",
              " 'message',\n",
              " 'minutes',\n",
              " 'money',\n",
              " 'naked',\n",
              " 'namelyyour',\n",
              " 'natural',\n",
              " 'necessary',\n",
              " 'need',\n",
              " 'network',\n",
              " 'neural',\n",
              " 'new',\n",
              " 'number',\n",
              " 'object',\n",
              " 'obviously',\n",
              " 'occurrences',\n",
              " 'office',\n",
              " 'officer',\n",
              " 'ok',\n",
              " 'operations',\n",
              " 'option',\n",
              " 'outside',\n",
              " 'pair',\n",
              " 'party',\n",
              " 'pass',\n",
              " 'people',\n",
              " 'period',\n",
              " 'person',\n",
              " 'personal',\n",
              " 'personalized',\n",
              " 'phone',\n",
              " 'physical',\n",
              " 'picked',\n",
              " 'pioneering',\n",
              " 'planet',\n",
              " 'points',\n",
              " 'potentially',\n",
              " 'press',\n",
              " 'privacy',\n",
              " 'private',\n",
              " 'probably',\n",
              " 'processing',\n",
              " 'profile',\n",
              " 'profiling',\n",
              " 'protect',\n",
              " 'protected',\n",
              " 'protection',\n",
              " 'provided',\n",
              " 'purposes',\n",
              " 'quantities',\n",
              " 'question',\n",
              " 'questions',\n",
              " 'quietly',\n",
              " 'racial',\n",
              " 'real',\n",
              " 'realise',\n",
              " 'really',\n",
              " 'record',\n",
              " 'reduced',\n",
              " 'refuse',\n",
              " 'reinvent',\n",
              " 'research',\n",
              " 'respect',\n",
              " 'retailer',\n",
              " 'rising',\n",
              " 'route',\n",
              " 'safe',\n",
              " 'satisfied',\n",
              " 'say',\n",
              " 'saying',\n",
              " 'saymy',\n",
              " 'search',\n",
              " 'security',\n",
              " 'seen',\n",
              " 'self',\n",
              " 'sell',\n",
              " 'send',\n",
              " 'service',\n",
              " 'shall',\n",
              " 'share',\n",
              " 'sing',\n",
              " 'siri',\n",
              " 'skills',\n",
              " 'sofa',\n",
              " 'song',\n",
              " 'sorry',\n",
              " 'space',\n",
              " 'speak',\n",
              " 'speaking',\n",
              " 'staff',\n",
              " 'standard',\n",
              " 'starflight',\n",
              " 'start',\n",
              " 'statistical',\n",
              " 'strong',\n",
              " 'subject',\n",
              " 'subscription',\n",
              " 'successful',\n",
              " 'sufficient',\n",
              " 'summarised',\n",
              " 'sundar',\n",
              " 'support',\n",
              " 'supposed',\n",
              " 'sure',\n",
              " 'talk',\n",
              " 'talking',\n",
              " 'teacher',\n",
              " 'tell',\n",
              " 'terms',\n",
              " 'text',\n",
              " 'thank',\n",
              " 'thatabout',\n",
              " 'thing',\n",
              " 'things',\n",
              " 'think',\n",
              " 'tissue',\n",
              " 'today',\n",
              " 'tomorrow',\n",
              " 'topic',\n",
              " 'trade',\n",
              " 'train',\n",
              " 'tried',\n",
              " 'trying',\n",
              " 'turn',\n",
              " 'tv',\n",
              " 'type',\n",
              " 'understand',\n",
              " 'understanding',\n",
              " 'unfortunately',\n",
              " 'unless',\n",
              " 'urgent',\n",
              " 'use',\n",
              " 'vested',\n",
              " 'vr',\n",
              " 'want',\n",
              " 'wanted',\n",
              " 'watch',\n",
              " 'water',\n",
              " 'way',\n",
              " 'ways',\n",
              " 'wear',\n",
              " 'weather',\n",
              " 'week',\n",
              " 'whatbuy',\n",
              " 'whatso',\n",
              " 'wish',\n",
              " 'words',\n",
              " 'work',\n",
              " 'workings',\n",
              " 'world',\n",
              " 'years']"
            ]
          },
          "metadata": {
            "tags": []
          },
          "execution_count": 17
        }
      ]
    },
    {
      "cell_type": "code",
      "metadata": {
        "id": "Odb8khV1YSui",
        "outputId": "c92417c6-4abb-4cd5-a9eb-5d091d0dd819",
        "colab": {
          "base_uri": "https://localhost:8080/",
          "height": 101
        }
      },
      "source": [
        "anchor_words = [['nasa', 'space'], ['sports', 'stadium'], ['politics', 'government'], ['love', 'hope']]\n",
        "anchored_topic_model = ct.Corex(n_hidden=50, seed=2)\n",
        "anchored_topic_model.fit(doc_word, words=words, anchors=anchor_words, anchor_strength=6);"
      ],
      "execution_count": null,
      "outputs": [
        {
          "output_type": "stream",
          "text": [
            "WARNING: Anchor word not in word column labels provided to CorEx: nasa\n",
            "WARNING: Anchor word not in word column labels provided to CorEx: sports\n",
            "WARNING: Anchor word not in word column labels provided to CorEx: stadium\n",
            "WARNING: Anchor word not in word column labels provided to CorEx: politics\n",
            "WARNING: Anchor word not in word column labels provided to CorEx: government\n"
          ],
          "name": "stdout"
        }
      ]
    },
    {
      "cell_type": "code",
      "metadata": {
        "id": "OMAf_cmbZaS_",
        "outputId": "fa583199-e058-43c5-a3e0-b02492372386",
        "colab": {
          "base_uri": "https://localhost:8080/",
          "height": 101
        }
      },
      "source": [
        "anchored_topic_model = ct.Corex(n_hidden=50, seed=2)\n",
        "anchored_topic_model.fit(doc_word, words=words, anchors=anchor_words, anchor_strength=6);"
      ],
      "execution_count": null,
      "outputs": [
        {
          "output_type": "stream",
          "text": [
            "WARNING: Anchor word not in word column labels provided to CorEx: nasa\n",
            "WARNING: Anchor word not in word column labels provided to CorEx: sports\n",
            "WARNING: Anchor word not in word column labels provided to CorEx: stadium\n",
            "WARNING: Anchor word not in word column labels provided to CorEx: politics\n",
            "WARNING: Anchor word not in word column labels provided to CorEx: government\n"
          ],
          "name": "stdout"
        }
      ]
    },
    {
      "cell_type": "code",
      "metadata": {
        "id": "VVvf5tZvZeRb",
        "outputId": "5d916e28-3d98-47e0-9b1a-be26b0f76a05",
        "colab": {
          "base_uri": "https://localhost:8080/",
          "height": 246
        }
      },
      "source": [
        "for n in range(6):\n",
        "    topic_words,_ = zip(*anchored_topic_model.get_topics(topic=n))\n",
        "    print('{}: '.format(n) + ','.join(topic_words))"
      ],
      "execution_count": null,
      "outputs": [
        {
          "output_type": "stream",
          "text": [
            "0: space,app,30,minutes,naked,outside,points,potentially,quietly,rising\n",
            "1: hope,love,happy,service,asin,friends,impact\n",
            "2: question,example,route,supposed,turn\n"
          ],
          "name": "stdout"
        },
        {
          "output_type": "error",
          "ename": "ValueError",
          "evalue": "ignored",
          "traceback": [
            "\u001b[0;31m---------------------------------------------------------------------------\u001b[0m",
            "\u001b[0;31mValueError\u001b[0m                                Traceback (most recent call last)",
            "\u001b[0;32m<ipython-input-27-0844719d5c0d>\u001b[0m in \u001b[0;36m<module>\u001b[0;34m()\u001b[0m\n\u001b[1;32m      1\u001b[0m \u001b[0;32mfor\u001b[0m \u001b[0mn\u001b[0m \u001b[0;32min\u001b[0m \u001b[0mrange\u001b[0m\u001b[0;34m(\u001b[0m\u001b[0;36m6\u001b[0m\u001b[0;34m)\u001b[0m\u001b[0;34m:\u001b[0m\u001b[0;34m\u001b[0m\u001b[0;34m\u001b[0m\u001b[0m\n\u001b[0;32m----> 2\u001b[0;31m     \u001b[0mtopic_words\u001b[0m\u001b[0;34m,\u001b[0m\u001b[0m_\u001b[0m \u001b[0;34m=\u001b[0m \u001b[0mzip\u001b[0m\u001b[0;34m(\u001b[0m\u001b[0;34m*\u001b[0m\u001b[0manchored_topic_model\u001b[0m\u001b[0;34m.\u001b[0m\u001b[0mget_topics\u001b[0m\u001b[0;34m(\u001b[0m\u001b[0mtopic\u001b[0m\u001b[0;34m=\u001b[0m\u001b[0mn\u001b[0m\u001b[0;34m)\u001b[0m\u001b[0;34m)\u001b[0m\u001b[0;34m\u001b[0m\u001b[0;34m\u001b[0m\u001b[0m\n\u001b[0m\u001b[1;32m      3\u001b[0m     \u001b[0mprint\u001b[0m\u001b[0;34m(\u001b[0m\u001b[0;34m'{}: '\u001b[0m\u001b[0;34m.\u001b[0m\u001b[0mformat\u001b[0m\u001b[0;34m(\u001b[0m\u001b[0mn\u001b[0m\u001b[0;34m)\u001b[0m \u001b[0;34m+\u001b[0m \u001b[0;34m','\u001b[0m\u001b[0;34m.\u001b[0m\u001b[0mjoin\u001b[0m\u001b[0;34m(\u001b[0m\u001b[0mtopic_words\u001b[0m\u001b[0;34m)\u001b[0m\u001b[0;34m)\u001b[0m\u001b[0;34m\u001b[0m\u001b[0;34m\u001b[0m\u001b[0m\n",
            "\u001b[0;31mValueError\u001b[0m: not enough values to unpack (expected 2, got 0)"
          ]
        }
      ]
    }
  ]
}